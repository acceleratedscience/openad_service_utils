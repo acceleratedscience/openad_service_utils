{
 "cells": [
  {
   "cell_type": "markdown",
   "metadata": {},
   "source": [
    "# Protein Solubility Prediction: A Walkthrough\n",
    "\n",
    "This tutorial will guide you through the process of wrapping a protein solubility prediction model and testing it with the OpenAD Toolkit."
   ]
  },
  {
   "cell_type": "markdown",
   "metadata": {},
   "source": [
    "## 1. Setup\n",
    "\n",
    "First, let's install the necessary libraries. This includes `openad-service-utils` for wrapping the model, `openad-toolkit` for testing, `torch` for the model, and the specific dependencies for the protein solubility model."
   ]
  },
  {
   "cell_type": "code",
   "execution_count": null,
   "metadata": {},
   "outputs": [],
   "source": [
    "%pip install openad-service-utils openad git+https://github.com/BiomedSciAI/biomed-multi-alignment.git"
   ]
  },
  {
   "cell_type": "markdown",
   "metadata": {},
   "source": [
    "## 2. Model Wrapping\n",
    "\n",
    "Now, we will create a Python script to wrap the protein solubility model. We will write this file directly from the notebook."
   ]
  },
  {
   "cell_type": "code",
   "execution_count": null,
   "metadata": {},
   "outputs": [],
   "source": [
    "%%writefile protein_solubility_implementation.py\n",
    "\n",
    "\n",
    "from openad_service_utils import SimplePredictor, PredictorTypes, PropertyInfo, DomainSubmodule\n",
    "from typing import Optional, List, Any\n",
    "from pydantic.v1 import Field\n",
    "from fuse.data.tokenizers.modular_tokenizer.op import ModularTokenizerOp\n",
    "from mammal.examples.protein_solubility.task import ProteinSolubilityTask\n",
    "from mammal.keys import CLS_PRED, SCORES\n",
    "from mammal.model import Mammal\n",
    "\n",
    "class ProteinSolubility(SimplePredictor):\n",
    "    domain: DomainSubmodule = DomainSubmodule(\"properties\")\n",
    "    algorithm_name: str = \"mammal\"\n",
    "    algorithm_application: str = \"protein_solubility\"\n",
    "    algorithm_version: str = \"v0\"\n",
    "    property_type: PredictorTypes = PredictorTypes.PROTEIN\n",
    "\n",
    "    def setup(self):\n",
    "        self.model = Mammal.from_pretrained(\"ibm/biomed.omics.bl.sm.ma-ted-458m.protein_solubility\")\n",
    "        self.model.eval()\n",
    "        self.tokenizer_op = ModularTokenizerOp.from_pretrained(\"ibm/biomed.omics.bl.sm.ma-ted-458m.protein_solubility\")\n",
    "\n",
    "    def predict(self, sample: Any):\n",
    "        sample_dict = {\"protein_seq\": sample}\n",
    "        sample_dict = ProteinSolubilityTask.data_preprocessing(\n",
    "            sample_dict=sample_dict,\n",
    "            protein_sequence_key=\"protein_seq\",\n",
    "            tokenizer_op=self.tokenizer_op,\n",
    "            device=self.model.device,\n",
    "        )\n",
    "        batch_dict = self.model.generate(\n",
    "            [sample_dict],\n",
    "            output_scores=True,\n",
    "            return_dict_in_generate=True,\n",
    "            max_new_tokens=5,\n",
    "        )\n",
    "        result = ProteinSolubilityTask.process_model_output(\n",
    "            tokenizer_op=self.tokenizer_op,\n",
    "            decoder_output=batch_dict[CLS_PRED][0],\n",
    "            decoder_output_scores=batch_dict[SCORES][0],\n",
    "        )\n",
    "        return result\n",
    "\n",
    "# Register model to serve\n",
    "# This is a no_model=True registration, meaning it will not use the aws model registry.\n",
    "ProteinSolubility.register(no_model=True)\n",
    "\n",
    "if __name__ == \"__main__\":\n",
    "    from openad_service_utils import start_server\n",
    "    start_server()\n"
   ]
  },
  {
   "cell_type": "markdown",
   "metadata": {},
   "source": [
    "## 3. Running the Service\n",
    "\n",
    "Now, open a new terminal and run the following command to start the service:"
   ]
  },
  {
   "cell_type": "markdown",
   "metadata": {},
   "source": [
    "```bash\n",
    "python tutorials/protein_solubility_implementation.py\n",
    "```"
   ]
  },
  {
   "cell_type": "markdown",
   "metadata": {},
   "source": [
    "## 4. Testing the Service with OpenAD Toolkit\n",
    "\n",
    "Once the service is running, we can test it using the OpenAD Toolkit's magic commands."
   ]
  },
  {
   "cell_type": "code",
   "execution_count": null,
   "metadata": {},
   "outputs": [],
   "source": [
    "!init_magic"
   ]
  },
  {
   "cell_type": "code",
   "execution_count": null,
   "metadata": {},
   "outputs": [],
   "source": [
    "%openad catalog model service from remote 'http://localhost:8081' as 'protsol'"
   ]
  },
  {
   "cell_type": "code",
   "execution_count": null,
   "metadata": {},
   "outputs": [],
   "source": [
    "%openad protsol ?"
   ]
  },
  {
   "cell_type": "code",
   "execution_count": null,
   "metadata": {},
   "outputs": [],
   "source": [
    "%openad protsol get protein property protein_solubility FOR 'MSKGEELFTGVVPILVELDGDVNGHKFSVSGEGEGDATYGKLTLKFICTTGKLPVPWPTLVTTFSYGVQCFSRYPDHMKQHDFFKSAMPEGYVQERTIFFKDDGNYKTRAEVKFEGDTLVNRIELKGIDFKEDGNILGHKLEYNYNSHNVYIMADKQKNGIKVNFKIRHNIEDGSVQLADHYQQNTPIGDGPVLLPDNHYLSTQSALSKDPNEKRDHMVLLEFVTAAGITLGMDELYK'"
   ]
  },
  {
   "cell_type": "code",
   "execution_count": null,
   "metadata": {},
   "outputs": [],
   "source": [
    "%openad uncatalog model service 'protsol'"
   ]
  }
 ],
 "metadata": {
  "kernelspec": {
   "display_name": "openad_service_utils (3.11.12)",
   "language": "python",
   "name": "python3"
  },
  "language_info": {
   "codemirror_mode": {
    "name": "ipython",
    "version": 3
   },
   "file_extension": ".py",
   "mimetype": "text/x-python",
   "name": "python",
   "nbconvert_exporter": "python",
   "pygments_lexer": "ipython3",
   "version": "3.11.12"
  }
 },
 "nbformat": 4,
 "nbformat_minor": 4
}
